{
 "cells": [
  {
   "cell_type": "code",
   "execution_count": 2,
   "id": "d1dd061d",
   "metadata": {},
   "outputs": [],
   "source": [
    "#Import \n",
    "import pandas as pd"
   ]
  },
  {
   "cell_type": "code",
   "execution_count": 3,
   "id": "3b6e2b1e",
   "metadata": {},
   "outputs": [],
   "source": [
    "with open('sheaks.txt', 'r', encoding='utf-8') as f:\n",
    "    text = f.read()"
   ]
  },
  {
   "cell_type": "code",
   "execution_count": null,
   "id": "b59a530b",
   "metadata": {},
   "outputs": [],
   "source": [
    "#here are all the unique characters that occur in this text"
   ]
  }
 ],
 "metadata": {
  "kernelspec": {
   "display_name": "Python 3 (ipykernel)",
   "language": "python",
   "name": "python3"
  },
  "language_info": {
   "codemirror_mode": {
    "name": "ipython",
    "version": 3
   },
   "file_extension": ".py",
   "mimetype": "text/x-python",
   "name": "python",
   "nbconvert_exporter": "python",
   "pygments_lexer": "ipython3",
   "version": "3.9.12"
  }
 },
 "nbformat": 4,
 "nbformat_minor": 5
}
